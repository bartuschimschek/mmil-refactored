{
 "cells": [
  {
   "cell_type": "markdown",
   "id": "bfff8ffc",
   "metadata": {},
   "source": [
    "# WIP, not updated yet!"
   ]
  },
  {
   "cell_type": "code",
   "execution_count": 29,
   "id": "74f46f21",
   "metadata": {},
   "outputs": [],
   "source": [
    "from matplotlib import pyplot as plt\n",
    "import multigrate as mtg\n",
    "import scanpy as sc"
   ]
  },
  {
   "cell_type": "code",
   "execution_count": 30,
   "id": "e7fd1ab9",
   "metadata": {},
   "outputs": [
    {
     "name": "stdout",
     "output_type": "stream",
     "text": [
      "The autoreload extension is already loaded. To reload it, use:\n",
      "  %reload_ext autoreload\n"
     ]
    }
   ],
   "source": [
    "%load_ext autoreload\n",
    "%autoreload 2"
   ]
  },
  {
   "cell_type": "markdown",
   "id": "00d48257",
   "metadata": {},
   "source": [
    "# Load preprocessed data"
   ]
  },
  {
   "cell_type": "markdown",
   "id": "bd0dce2e",
   "metadata": {},
   "source": [
    "We recommend using raw counts for scRNA-seq and TF-IDF normalized expression for ATAC-seq. You can also input binarized counts for ATAC, but normalized expression seems to integrate a bit better."
   ]
  },
  {
   "cell_type": "code",
   "execution_count": 31,
   "id": "61d78e17",
   "metadata": {},
   "outputs": [],
   "source": [
    "rna = sc.read('../../../data/stephenson-2021/stephenson2021_rna_hvg_test.h5ad')\n",
    "adt = sc.read('../../../data/stephenson-2021/stephenson2021_adt_test.h5ad')"
   ]
  },
  {
   "cell_type": "code",
   "execution_count": 32,
   "id": "4e8da212",
   "metadata": {},
   "outputs": [
    {
     "data": {
      "text/plain": [
       "AnnData object with n_obs × n_vars = 10000 × 4000\n",
       "    obs: 'sample_id', 'n_genes', 'n_genes_by_counts', 'total_counts', 'total_counts_mt', 'pct_counts_mt', 'full_clustering', 'initial_clustering', 'Resample', 'Collection_Day', 'Sex', 'Age_interval', 'Swab_result', 'Status', 'Smoker', 'Status_on_day_collection', 'Status_on_day_collection_summary', 'Days_from_onset', 'Site', 'time_after_LPS', 'Worst_Clinical_Status', 'Outcome', 'patient_id', 'Age', 'split', 'batch'\n",
       "    var: 'feature_types', 'highly_variable', 'means', 'dispersions', 'dispersions_norm'\n",
       "    uns: 'hvg'\n",
       "    obsm: 'X_pca', 'X_pca_harmony', 'X_umap'\n",
       "    layers: 'count'"
      ]
     },
     "execution_count": 32,
     "metadata": {},
     "output_type": "execute_result"
    }
   ],
   "source": [
    "rna"
   ]
  },
  {
   "cell_type": "code",
   "execution_count": 33,
   "id": "5acae550",
   "metadata": {},
   "outputs": [
    {
     "data": {
      "text/plain": [
       "AnnData object with n_obs × n_vars = 10000 × 192\n",
       "    obs: 'sample_id', 'n_genes', 'n_genes_by_counts', 'total_counts', 'total_counts_mt', 'pct_counts_mt', 'full_clustering', 'initial_clustering', 'Resample', 'Collection_Day', 'Sex', 'Age_interval', 'Swab_result', 'Status', 'Smoker', 'Status_on_day_collection', 'Status_on_day_collection_summary', 'Days_from_onset', 'Site', 'time_after_LPS', 'Worst_Clinical_Status', 'Outcome', 'patient_id', 'Age', 'split', 'batch'\n",
       "    var: 'feature_types'\n",
       "    obsm: 'X_pca', 'X_pca_harmony', 'X_umap'\n",
       "    layers: 'count'"
      ]
     },
     "execution_count": 33,
     "metadata": {},
     "output_type": "execute_result"
    }
   ],
   "source": [
    "adt"
   ]
  },
  {
   "cell_type": "markdown",
   "id": "9491dd3d",
   "metadata": {},
   "source": [
    "# Prep the input AnnData object"
   ]
  },
  {
   "cell_type": "markdown",
   "id": "00844ec0",
   "metadata": {},
   "source": [
    "First, we need to organize anndatas correspoding to different datasets and modalities into 1 anndata object. Here in this example we have 1 CITE-seq dataset, hence we input 2 anndata objects, 1 for RNA modality, 1 for ADT modality, and specify that they are paired (```groups``` argument).\n",
    "\n",
    "Notes:\n",
    "- paired datasets have to have the same .obs_names, i.e. index\n",
    "- if there are batch effects in one dataset, please split the data into batches beforehand, becaues the model treats each input anndata object as 1 batch"
   ]
  },
  {
   "cell_type": "markdown",
   "id": "8b31e86a",
   "metadata": {},
   "source": [
    "If we had more unpaired data here, e.g. 1 paired RNA-ATAC dataset (```rna1```, ```atac1```) and 2 other RNA datasets (```rna2```, ```rna3```), we would have to first subset the RNA modality to the set of common genes (and then possibly to highly variable genes). Then we would need to specify\n",
    "```adata = [[rna1, rna2, rna3], [atac]]``` and ```groups = [[0, 1, 2], [0]]```."
   ]
  },
  {
   "cell_type": "code",
   "execution_count": 44,
   "id": "22c1e546",
   "metadata": {
    "scrolled": false
   },
   "outputs": [
    {
     "data": {
      "text/plain": [
       "AnnData object with n_obs × n_vars = 10000 × 4192\n",
       "    obs: 'sample_id', 'n_genes', 'n_genes_by_counts', 'total_counts', 'total_counts_mt', 'pct_counts_mt', 'full_clustering', 'initial_clustering', 'Resample', 'Collection_Day', 'Sex', 'Age_interval', 'Swab_result', 'Status', 'Smoker', 'Status_on_day_collection', 'Status_on_day_collection_summary', 'Days_from_onset', 'Site', 'time_after_LPS', 'Worst_Clinical_Status', 'Outcome', 'patient_id', 'Age', 'split', 'batch', 'group', 'size_factors', '_scvi_batch', '_scvi_labels', 'cell_attn', 'predicted_Status_on_day_collection_summary'\n",
       "    var: 'feature_types', 'highly_variable', 'means', 'dispersions', 'dispersions_norm'\n",
       "    layers: 'count'"
      ]
     },
     "execution_count": 44,
     "metadata": {},
     "output_type": "execute_result"
    }
   ],
   "source": [
    "adata = mtg.data.organize_multiome_anndatas(\n",
    "    adatas = [[rna], [adt]],     # a list of anndata objects per modality, RNA-seq always goes first\n",
    "    groups = [[0], [0]],         # specify that paired\n",
    "    layers = [['count'], [None]] # if need to use data from .layers, if None use .X\n",
    ")\n",
    "adata"
   ]
  },
  {
   "cell_type": "code",
   "execution_count": 46,
   "id": "c0706e74",
   "metadata": {},
   "outputs": [
    {
     "data": {
      "text/plain": [
       "View of AnnData object with n_obs × n_vars = 10000 × 4192\n",
       "    obs: 'sample_id', 'n_genes', 'n_genes_by_counts', 'total_counts', 'total_counts_mt', 'pct_counts_mt', 'full_clustering', 'initial_clustering', 'Resample', 'Collection_Day', 'Sex', 'Age_interval', 'Swab_result', 'Status', 'Smoker', 'Status_on_day_collection', 'Status_on_day_collection_summary', 'Days_from_onset', 'Site', 'time_after_LPS', 'Worst_Clinical_Status', 'Outcome', 'patient_id', 'Age', 'split', 'batch', 'group', 'size_factors', '_scvi_batch', '_scvi_labels', 'cell_attn', 'predicted_Status_on_day_collection_summary'\n",
       "    var: 'feature_types', 'highly_variable', 'means', 'dispersions', 'dispersions_norm'\n",
       "    layers: 'count'"
      ]
     },
     "execution_count": 46,
     "metadata": {},
     "output_type": "execute_result"
    }
   ],
   "source": [
    "adata[adata.obs['split'] == 'train']"
   ]
  },
  {
   "cell_type": "markdown",
   "id": "d53f7b3c",
   "metadata": {},
   "source": [
    "Sanity check: in case of multiple datasets `len(adata)` should be equal `len(rna1) + len(rna2) + len(rna3)`."
   ]
  },
  {
   "cell_type": "markdown",
   "id": "fb6c3b1e",
   "metadata": {},
   "source": [
    "From now on, we work with one concatenated anndata object ```adata```."
   ]
  },
  {
   "cell_type": "markdown",
   "id": "2b4483c3",
   "metadata": {},
   "source": [
    "If using raw counts for scRNA, we need to use NB loss (or ZINB), thus need to calculate `size factors` first. If using normalized counts and MSE for scRNA, `rna_indices_end` does not need to be specified."
   ]
  },
  {
   "cell_type": "code",
   "execution_count": 35,
   "id": "3dae30e5",
   "metadata": {},
   "outputs": [
    {
     "name": "stdout",
     "output_type": "stream",
     "text": [
      "\u001b[34mINFO    \u001b[0m No batch_key inputted, assuming all cells are same batch                            \n",
      "\u001b[34mINFO    \u001b[0m No label_key inputted, assuming all cells have same label                           \n",
      "\u001b[34mINFO    \u001b[0m Using data from adata.X                                                             \n",
      "\u001b[34mINFO    \u001b[0m Successfully registered anndata object containing \u001b[1;36m10000\u001b[0m cells, \u001b[1;36m4192\u001b[0m vars, \u001b[1;36m1\u001b[0m batches,\n",
      "         \u001b[1;36m1\u001b[0m labels, and \u001b[1;36m0\u001b[0m proteins. Also registered \u001b[1;36m3\u001b[0m extra categorical covariates and \u001b[1;36m2\u001b[0m extra\n",
      "         continuous covariates.                                                              \n",
      "\u001b[34mINFO    \u001b[0m Please do not further modify adata until model is trained.                          \n"
     ]
    },
    {
     "name": "stderr",
     "output_type": "stream",
     "text": [
      "/home/icb/anastasia.litinetskaya/miniconda3/envs/multi/lib/python3.8/site-packages/pandas/core/arrays/categorical.py:2631: FutureWarning: The `inplace` parameter in pandas.Categorical.remove_unused_categories is deprecated and will be removed in a future version.\n",
      "  res = method(*args, **kwargs)\n"
     ]
    }
   ],
   "source": [
    "mtg.model.MultiVAE.setup_anndata(\n",
    "    adata,\n",
    "    rna_indices_end=4000,  # how many features in rna modality\n",
    "    categorical_covariate_keys=['Sex', 'patient_id', 'Status_on_day_collection_summary'],\n",
    "    continuous_covariate_keys=['Age'],\n",
    ")"
   ]
  },
  {
   "cell_type": "markdown",
   "id": "4e3c57c1",
   "metadata": {},
   "source": [
    "# Initialize the model"
   ]
  },
  {
   "cell_type": "markdown",
   "id": "30af207f",
   "metadata": {},
   "source": [
    "Define the model here. If using raw counts for RNA-seq, use NB loss (`'nb'`), if normalized counts, use MSE (`'mse'`) for RNA, ADT and ATAC. If using binarized counts for ATAC-seq, use BCE (`'bce'`)."
   ]
  },
  {
   "cell_type": "code",
   "execution_count": 36,
   "id": "c8cb4aa9",
   "metadata": {},
   "outputs": [],
   "source": [
    "model = mtg.model.MultiVAE_MIL(\n",
    "    adata, \n",
    "    modality_lengths=[4000, 192], # how many features per modality\n",
    "    losses=['nb', 'mse'],         # what losses to use for each modality\n",
    "    loss_coefs={'kl': 1e-5,\n",
    "               'integ': 0}, # depending on the datasets, might need to fine-tune loss coeficients, done here\n",
    "    classification=['Status_on_day_collection_summary'],\n",
    "    patient_label='patient_id',\n",
    ")"
   ]
  },
  {
   "cell_type": "markdown",
   "id": "b123063e",
   "metadata": {},
   "source": [
    "# Train the model"
   ]
  },
  {
   "cell_type": "markdown",
   "id": "8d03b6c1",
   "metadata": {},
   "source": [
    "Can specify the number of epochs by setting `max_epochs` parameter, default is 500."
   ]
  },
  {
   "cell_type": "code",
   "execution_count": 37,
   "id": "f248b740",
   "metadata": {
    "scrolled": true
   },
   "outputs": [
    {
     "name": "stderr",
     "output_type": "stream",
     "text": [
      "GPU available: True, used: True\n",
      "TPU available: False, using: 0 TPU cores\n",
      "LOCAL_RANK: 0 - CUDA_VISIBLE_DEVICES: [0]\n",
      "Set SLURM handle signals.\n",
      "/home/icb/anastasia.litinetskaya/miniconda3/envs/multi/lib/python3.8/site-packages/pandas/core/arrays/categorical.py:2631: FutureWarning: The `inplace` parameter in pandas.Categorical.remove_unused_categories is deprecated and will be removed in a future version.\n",
      "  res = method(*args, **kwargs)\n"
     ]
    },
    {
     "name": "stdout",
     "output_type": "stream",
     "text": [
      "Epoch 1/2:  50%|█████     | 1/2 [00:00<00:00,  1.17it/s, loss=2.43e+03, v_num=1]"
     ]
    },
    {
     "name": "stderr",
     "output_type": "stream",
     "text": [
      "Metric elbo_validation improved. New best score: 2311.026\n"
     ]
    },
    {
     "name": "stdout",
     "output_type": "stream",
     "text": [
      "Epoch 2/2: 100%|██████████| 2/2 [00:01<00:00,  1.20it/s, loss=2.08e+03, v_num=1]"
     ]
    },
    {
     "name": "stderr",
     "output_type": "stream",
     "text": [
      "Metric elbo_validation improved by 283.706 >= min_delta = 0.0. New best score: 2027.321\n"
     ]
    },
    {
     "name": "stdout",
     "output_type": "stream",
     "text": [
      "Epoch 2/2: 100%|██████████| 2/2 [00:01<00:00,  1.15it/s, loss=2.08e+03, v_num=1]\n"
     ]
    }
   ],
   "source": [
    "model.train(max_epochs=2)"
   ]
  },
  {
   "cell_type": "code",
   "execution_count": 43,
   "id": "b6181e68",
   "metadata": {},
   "outputs": [
    {
     "data": {
      "text/plain": [
       "array([[0.31656384, 0.3776367 , 0.30579948],\n",
       "       [0.31656384, 0.3776367 , 0.30579948],\n",
       "       [0.31656384, 0.3776367 , 0.30579948],\n",
       "       ...,\n",
       "       [0.31573597, 0.37809616, 0.3061679 ],\n",
       "       [0.31573597, 0.37809616, 0.3061679 ],\n",
       "       [0.31573597, 0.37809616, 0.3061679 ]], dtype=float32)"
      ]
     },
     "execution_count": 43,
     "metadata": {},
     "output_type": "execute_result"
    }
   ],
   "source": [
    "adata.obsm['cov_attn']"
   ]
  },
  {
   "cell_type": "code",
   "execution_count": 40,
   "id": "53ff206b",
   "metadata": {
    "scrolled": true
   },
   "outputs": [
    {
     "data": {
      "text/plain": [
       "dict_keys(['train_loss_step', 'train_loss_epoch', 'elbo_train', 'reconstruction_loss_train', 'kl_local_train', 'kl_global_train', 'integ_train', 'cycle_train', 'classification_train', 'accuracy_train', 'reg_loss_train', 'regression_train', 'validation_loss', 'elbo_validation', 'reconstruction_loss_validation', 'kl_local_validation', 'kl_global_validation', 'integ_validation', 'cycle_validation', 'classification_validation', 'accuracy_validation', 'reg_loss_validation', 'regression_validation'])"
      ]
     },
     "execution_count": 40,
     "metadata": {},
     "output_type": "execute_result"
    }
   ],
   "source": [
    "model.history.keys()"
   ]
  },
  {
   "cell_type": "markdown",
   "id": "2afbd017",
   "metadata": {},
   "source": [
    "# Inference"
   ]
  },
  {
   "cell_type": "markdown",
   "id": "39c1d4f8",
   "metadata": {},
   "source": [
    "Get the latent representation."
   ]
  },
  {
   "cell_type": "code",
   "execution_count": 39,
   "id": "41c7d9b2",
   "metadata": {},
   "outputs": [
    {
     "name": "stderr",
     "output_type": "stream",
     "text": [
      "/home/icb/anastasia.litinetskaya/miniconda3/envs/multi/lib/python3.8/site-packages/pandas/core/arrays/categorical.py:2631: FutureWarning: The `inplace` parameter in pandas.Categorical.remove_unused_categories is deprecated and will be removed in a future version.\n",
      "  res = method(*args, **kwargs)\n"
     ]
    },
    {
     "data": {
      "text/plain": [
       "AnnData object with n_obs × n_vars = 10000 × 4192\n",
       "    obs: 'sample_id', 'n_genes', 'n_genes_by_counts', 'total_counts', 'total_counts_mt', 'pct_counts_mt', 'full_clustering', 'initial_clustering', 'Resample', 'Collection_Day', 'Sex', 'Age_interval', 'Swab_result', 'Status', 'Smoker', 'Status_on_day_collection', 'Status_on_day_collection_summary', 'Days_from_onset', 'Site', 'time_after_LPS', 'Worst_Clinical_Status', 'Outcome', 'patient_id', 'Age', 'split', 'batch', 'group', 'size_factors', '_scvi_batch', '_scvi_labels', 'cell_attn', 'predicted_Status_on_day_collection_summary'\n",
       "    var: 'feature_types', 'highly_variable', 'means', 'dispersions', 'dispersions_norm'\n",
       "    uns: '_scvi', 'bag_classification_true_Status_on_day_collection_summary', 'bag_classification_predictions_Status_on_day_collection_summary', 'bag_predicted_Status_on_day_collection_summary'\n",
       "    obsm: '_scvi_extra_categoricals', '_scvi_extra_continuous', 'latent', 'cov_attn', 'classification_predictions_Status_on_day_collection_summary'\n",
       "    layers: 'count'"
      ]
     },
     "execution_count": 39,
     "metadata": {},
     "output_type": "execute_result"
    }
   ],
   "source": [
    "model.get_model_output(batch_size=512)\n",
    "adata"
   ]
  },
  {
   "cell_type": "markdown",
   "id": "38e21e47",
   "metadata": {},
   "source": [
    "Visualize results."
   ]
  },
  {
   "cell_type": "code",
   "execution_count": 15,
   "id": "02b050b9",
   "metadata": {},
   "outputs": [
    {
     "data": {
      "image/png": "[encoded data removed]",
      "text/plain": [
       "<Figure size 432x288 with 1 Axes>"
      ]
     },
     "metadata": {},
     "output_type": "display_data"
    }
   ],
   "source": [
    "sc.pp.neighbors(adata, use_rep='latent')\n",
    "sc.tl.umap(adata)\n",
    "sc.pl.umap(adata, color='cell_type')"
   ]
  },
  {
   "cell_type": "code",
   "execution_count": null,
   "id": "0de1743f",
   "metadata": {},
   "outputs": [],
   "source": [
    "mil.classification_report(level='bag')"
   ]
  },
  {
   "cell_type": "markdown",
   "id": "645e1800",
   "metadata": {},
   "source": [
    "# Query"
   ]
  },
  {
   "cell_type": "code",
   "execution_count": null,
   "id": "c19202bb",
   "metadata": {},
   "outputs": [],
   "source": [
    "mtg.model.MultiVAE_MIL.setup_query(\n",
    "                adata,     \n",
    "                query, \n",
    "                # class_label='condition',\n",
    "                rna_indices_end=4000, \n",
    "                categorical_covariate_keys=['sex', 'patient'],\n",
    "                continuous_covariate_keys=['age'],\n",
    "                )\n",
    "query"
   ]
  },
  {
   "cell_type": "code",
   "execution_count": null,
   "id": "17f5b691",
   "metadata": {},
   "outputs": [],
   "source": [
    "new_mil = mtg.model.MultiVAE_MIL.load_query_data(query, mil)"
   ]
  },
  {
   "cell_type": "code",
   "execution_count": null,
   "id": "527cd9aa",
   "metadata": {},
   "outputs": [],
   "source": [
    "new_mil.finetune_query(max_epochs=1, batch_size=512, plot_losses=True)"
   ]
  },
  {
   "cell_type": "code",
   "execution_count": null,
   "id": "27f98120",
   "metadata": {},
   "outputs": [],
   "source": [
    "new_mil.get_model_output(batch_size=512)\n",
    "query"
   ]
  }
 ],
 "metadata": {
  "kernelspec": {
   "display_name": "Python 3 (ipykernel)",
   "language": "python",
   "name": "python3"
  },
  "language_info": {
   "codemirror_mode": {
    "name": "ipython",
    "version": 3
   },
   "file_extension": ".py",
   "mimetype": "text/x-python",
   "name": "python",
   "nbconvert_exporter": "python",
   "pygments_lexer": "ipython3",
   "version": "3.8.12"
  }
 },
 "nbformat": 4,
 "nbformat_minor": 5
}
