{
 "cells": [
  {
   "cell_type": "code",
   "execution_count": 1,
   "metadata": {},
   "outputs": [],
   "source": [
    "import sys\n",
    "sys.path.append('..')"
   ]
  },
  {
   "cell_type": "code",
   "execution_count": 2,
   "metadata": {},
   "outputs": [],
   "source": [
    "%load_ext autoreload\n",
    "%autoreload 2"
   ]
  },
  {
   "cell_type": "code",
   "execution_count": 3,
   "metadata": {},
   "outputs": [],
   "source": [
    "import scanpy as sc\n",
    "import anndata as ad\n",
    "import numpy as np\n",
    "import scmulti\n",
    "from random import shuffle\n",
    "from scipy import sparse\n",
    "from matplotlib import pyplot as plt"
   ]
  },
  {
   "cell_type": "code",
   "execution_count": 4,
   "metadata": {},
   "outputs": [],
   "source": [
    "%config InlineBackend.figure_format = 'retina'"
   ]
  },
  {
   "cell_type": "markdown",
   "metadata": {},
   "source": [
    "# Load the dataset"
   ]
  },
  {
   "cell_type": "code",
   "execution_count": 5,
   "metadata": {},
   "outputs": [
    {
     "data": {
      "text/plain": [
       "AnnData object with n_obs × n_vars = 53196 × 3999\n",
       "    obs: 'n_genes', 'n_genes_by_counts', 'log1p_n_genes_by_counts', 'total_counts', 'log1p_total_counts', 'batch', 'cluster_level1', 'cluster_level2', 'cluster_level3', 'sample'\n",
       "    var: 'gene_symbols', 'n_cells', 'n_cells_by_counts', 'mean_counts', 'log1p_mean_counts', 'pct_dropout_by_counts', 'total_counts', 'log1p_total_counts', 'highly_variable', 'means', 'dispersions', 'dispersions_norm'\n",
       "    uns: 'batch_colors', 'cluster_level1_colors', 'cluster_level2_colors', 'cluster_level3_colors', 'hvg', 'neighbors', 'pca', 'sample_colors', 'umap'\n",
       "    obsm: 'X_pca', 'X_umap'\n",
       "    varm: 'PCs'\n",
       "    obsp: 'connectivities', 'distances'"
      ]
     },
     "execution_count": 5,
     "metadata": {},
     "output_type": "execute_result"
    }
   ],
   "source": [
    "scrna = sc.read_h5ad('../data/kotliarov-2020/expressions.h5ad')\n",
    "scrna"
   ]
  },
  {
   "cell_type": "code",
   "execution_count": 6,
   "metadata": {},
   "outputs": [
    {
     "data": {
      "text/plain": [
       "AnnData object with n_obs × n_vars = 53196 × 87\n",
       "    obs: 'n_genes', 'batch', 'cluster_level1', 'cluster_level2', 'cluster_level3', 'sample'\n",
       "    var: 'gene_symbols', 'n_cells'\n",
       "    uns: 'batch_colors', 'cluster_level1_colors', 'cluster_level2_colors', 'cluster_level3_colors', 'neighbors', 'pca', 'sample_colors', 'umap'\n",
       "    obsm: 'X_pca', 'X_umap'\n",
       "    varm: 'PCs'\n",
       "    obsp: 'connectivities', 'distances'"
      ]
     },
     "execution_count": 6,
     "metadata": {},
     "output_type": "execute_result"
    }
   ],
   "source": [
    "cite = sc.read_h5ad('../data/kotliarov-2020/protein.h5ad')\n",
    "cite"
   ]
  },
  {
   "cell_type": "code",
   "execution_count": 7,
   "metadata": {},
   "outputs": [
    {
     "data": {
      "text/plain": [
       "AnnData object with n_obs × n_vars = 10000 × 3999\n",
       "    obs: 'cell_type', 'n_genes', 'n_genes_by_counts', 'log1p_n_genes_by_counts', 'total_counts', 'log1p_total_counts', 'total_counts_mt', 'log1p_total_counts_mt', 'pct_counts_mt'\n",
       "    var: 'gene_ids', 'feature_types', 'genome', 'n_cells', 'mt', 'n_cells_by_counts', 'mean_counts', 'log1p_mean_counts', 'pct_dropout_by_counts', 'total_counts', 'log1p_total_counts', 'highly_variable', 'means', 'dispersions', 'dispersions_norm'\n",
       "    uns: 'cell_type_colors', 'neighbors', 'umap'\n",
       "    obsm: 'X_pca', 'X_umap'\n",
       "    obsp: 'connectivities', 'distances'"
      ]
     },
     "execution_count": 7,
     "metadata": {},
     "output_type": "execute_result"
    }
   ],
   "source": [
    "rna = sc.read_h5ad('../data/10xpbmc10k-2020/expressions.h5ad')\n",
    "rna"
   ]
  },
  {
   "cell_type": "code",
   "execution_count": 8,
   "metadata": {},
   "outputs": [
    {
     "data": {
      "text/plain": [
       "AnnData object with n_obs × n_vars = 10000 × 40018\n",
       "    obs: 'cell_type', 'nb_features'\n",
       "    var: 'gene_ids', 'feature_types', 'genome', 'n_cells', 'commonness', 'prop_shared_cells', 'variability_score'\n",
       "    uns: 'cell_type_colors', 'neighbors', 'umap'\n",
       "    obsm: 'X_pca', 'X_umap'\n",
       "    obsp: 'connectivities', 'distances'"
      ]
     },
     "execution_count": 8,
     "metadata": {},
     "output_type": "execute_result"
    }
   ],
   "source": [
    "scatac = sc.read_h5ad('../data/10xpbmc10k-2020/peaks.h5ad')\n",
    "scatac"
   ]
  },
  {
   "cell_type": "code",
   "execution_count": 9,
   "metadata": {},
   "outputs": [],
   "source": [
    "scrna.obs['cell_type'] = scrna.obs['cluster_level1'].astype('category')\n",
    "cite.obs['cell_type'] = cite.obs['cluster_level1'].astype('category')"
   ]
  },
  {
   "cell_type": "markdown",
   "metadata": {},
   "source": [
    "## Allign the labels"
   ]
  },
  {
   "cell_type": "code",
   "execution_count": 10,
   "metadata": {},
   "outputs": [
    {
     "data": {
      "text/plain": [
       "Index(['CD56 (bright) NK cells', 'CD56 (dim) NK cells', 'MAIT T cells',\n",
       "       'classical monocytes', 'effector CD8 T cells', 'intermediate monocytes',\n",
       "       'memory B cells', 'memory CD4 T cells', 'myeloid DC', 'naive B cells',\n",
       "       'naive CD4 T cells', 'naive CD8 T cells', 'non-classical monocytes',\n",
       "       'plasmacytoid DC'],\n",
       "      dtype='object')"
      ]
     },
     "execution_count": 10,
     "metadata": {},
     "output_type": "execute_result"
    }
   ],
   "source": [
    "rna.obs.cell_type.cat.categories"
   ]
  },
  {
   "cell_type": "code",
   "execution_count": 11,
   "metadata": {},
   "outputs": [
    {
     "data": {
      "text/plain": [
       "Index(['CD4 naive', 'CD4 memory T', 'Classical monocytes and mDC', 'B',\n",
       "       'CD8 memory T', 'NK', 'CD8 naive', 'Unconventional T cells',\n",
       "       'Non-classical monocytes', 'pDC'],\n",
       "      dtype='object')"
      ]
     },
     "execution_count": 11,
     "metadata": {},
     "output_type": "execute_result"
    }
   ],
   "source": [
    "scrna.obs.cell_type.cat.categories"
   ]
  },
  {
   "cell_type": "code",
   "execution_count": 12,
   "metadata": {},
   "outputs": [],
   "source": [
    "# make types more general for now\n",
    "new_cell_types = {'CD56 (bright) NK cells': 'NK', 'CD56 (dim) NK cells': 'NK', 'MAIT T cells': 'Unconventional T cells',\n",
    "                  'classical monocytes': 'Classical monocytes and mDC', 'effector CD8 T cells': 'CD8 effector', 'intermediate monocytes': 'Intermediate monocytes',\n",
    "                  'memory B cells': 'B', 'memory CD4 T cells': 'CD4 memory T', 'myeloid DC': 'Classical monocytes and mDC', 'naive B cells':'B',\n",
    "                  'naive CD4 T cells': 'CD4 naive', 'naive CD8 T cells': 'CD8 naive', 'non-classical monocytes': 'Non-classical monocytes',\n",
    "                   'plasmacytoid DC': 'pDC'\n",
    "                 }"
   ]
  },
  {
   "cell_type": "code",
   "execution_count": 13,
   "metadata": {},
   "outputs": [],
   "source": [
    "rna.obs['old_cell_type'] = rna.obs['cell_type']\n",
    "scatac.obs['old_cell_type'] = scatac.obs['cell_type']"
   ]
  },
  {
   "cell_type": "code",
   "execution_count": 14,
   "metadata": {},
   "outputs": [],
   "source": [
    "new_rna_cell_types = [new_cell_types[name] for name in rna.obs.cell_type]"
   ]
  },
  {
   "cell_type": "code",
   "execution_count": 15,
   "metadata": {},
   "outputs": [],
   "source": [
    "new_atac_cell_types = [new_cell_types[name] for name in scatac.obs.cell_type]"
   ]
  },
  {
   "cell_type": "code",
   "execution_count": 16,
   "metadata": {},
   "outputs": [],
   "source": [
    "rna.obs.cell_type = new_rna_cell_types\n",
    "scatac.obs.cell_type = new_atac_cell_types"
   ]
  },
  {
   "cell_type": "markdown",
   "metadata": {},
   "source": [
    "## Choose shared features"
   ]
  },
  {
   "cell_type": "code",
   "execution_count": 17,
   "metadata": {},
   "outputs": [
    {
     "name": "stderr",
     "output_type": "stream",
     "text": [
      "/Users/alitinet/opt/miniconda3/envs/mulgr/lib/python3.7/site-packages/anndata/_core/merge.py:894: UserWarning: Only some AnnData objects have `.raw` attribute, not concatenating `.raw` attributes.\n",
      "  UserWarning,\n"
     ]
    }
   ],
   "source": [
    "common = rna.concatenate(scrna)"
   ]
  },
  {
   "cell_type": "code",
   "execution_count": 18,
   "metadata": {},
   "outputs": [],
   "source": [
    "rna = common[common.obs['batch'] == '0']\n",
    "scrna = common[common.obs['batch'] == '1']"
   ]
  },
  {
   "cell_type": "markdown",
   "metadata": {},
   "source": [
    "# Paired setting"
   ]
  },
  {
   "cell_type": "markdown",
   "metadata": {},
   "source": [
    "## Configure and train the model"
   ]
  },
  {
   "cell_type": "code",
   "execution_count": 19,
   "metadata": {},
   "outputs": [],
   "source": [
    "model = scmulti.models.MultiVAE(\n",
    "    adatas=[[scrna, rna], [cite], [scatac]],\n",
    "    names=[['scRNA-seq-kotliarov', 'scRNA-seq-10x'], ['scCITE-seq-kotliarov'], ['scATAC-seq-10x']],\n",
    "    pair_groups=[[0, 1], [0], [1]],\n",
    "    z_dim=20,\n",
    "    h_dim=128,\n",
    "    hiddens=[],\n",
    "    shared_hiddens=[],\n",
    "    adver_hiddens=[],\n",
    "    recon_coef=1,\n",
    "    kl_coef=1e-5,\n",
    "    integ_coef=1e-2,\n",
    "    cycle_coef=0,\n",
    "    adversarial=False,\n",
    "    dropout=0.2,\n",
    ")"
   ]
  },
  {
   "cell_type": "code",
   "execution_count": null,
   "metadata": {},
   "outputs": [
    {
     "name": "stdout",
     "output_type": "stream",
     "text": [
      " |██------------------| 10.0% iter=1001/10000, loss=0.7056, recon=0.6310, kl=89.7157, integ=7.3697"
     ]
    }
   ],
   "source": [
    "model.train(\n",
    "    n_iters=10000,\n",
    "    batch_size=64,\n",
    "    lr=3e-4,\n",
    "    val_split=0.1,\n",
    "    adv_iters=0,\n",
    ")"
   ]
  },
  {
   "cell_type": "markdown",
   "metadata": {},
   "source": [
    "## Plot training history"
   ]
  },
  {
   "cell_type": "code",
   "execution_count": null,
   "metadata": {},
   "outputs": [],
   "source": [
    "model.history"
   ]
  },
  {
   "cell_type": "code",
   "execution_count": null,
   "metadata": {},
   "outputs": [],
   "source": [
    "plt.figure(figsize=(15, 10));\n",
    "plt.subplot(221);\n",
    "plt.plot(model.history['iteration'], model.history['train_loss'], '.-', label='Train loss');\n",
    "plt.plot(model.history['iteration'], model.history['val_loss'], '.-', label='Val loss');\n",
    "plt.xlabel('#Iterations');\n",
    "plt.legend();\n",
    "\n",
    "plt.subplot(222);\n",
    "plt.plot(model.history['iteration'], model.history['train_recon'], '.-', label='Train recon loss');\n",
    "plt.plot(model.history['iteration'], model.history['val_recon'], '.-', label='Val recon loss');\n",
    "plt.xlabel('#Iterations');\n",
    "plt.legend();\n",
    "\n",
    "plt.subplot(223);\n",
    "plt.plot(model.history['iteration'], model.history['train_kl'], '.-', label='Train kl loss');\n",
    "plt.plot(model.history['iteration'], model.history['val_kl'], '.-', label='Val kl loss');\n",
    "plt.xlabel('#Iterations');\n",
    "plt.legend();\n",
    "\n",
    "plt.subplot(224);\n",
    "plt.plot(model.history['iteration'], model.history['train_integ'], '.-', label='Train integ loss');\n",
    "plt.plot(model.history['iteration'], model.history['val_integ'], '.-', label='Val integ loss');\n",
    "plt.xlabel('#Iterations');\n",
    "plt.legend();"
   ]
  },
  {
   "cell_type": "markdown",
   "metadata": {},
   "source": [
    "## Recover and visualize the latent space"
   ]
  },
  {
   "cell_type": "code",
   "execution_count": null,
   "metadata": {},
   "outputs": [],
   "source": [
    "z = model.predict(\n",
    "    adatas=[[scrna, rna], [cite], [scatac]],\n",
    "    names=[['scRNA-seq-kotliarov', 'scRNA-seq-10x'], ['scCITE-seq-kotliarov'], ['scATAC-seq-10x']],\n",
    "    batch_size=64,\n",
    ")\n",
    "z"
   ]
  },
  {
   "cell_type": "code",
   "execution_count": null,
   "metadata": {},
   "outputs": [],
   "source": [
    "sc.tl.pca(z, svd_solver='arpack')"
   ]
  },
  {
   "cell_type": "code",
   "execution_count": null,
   "metadata": {},
   "outputs": [],
   "source": [
    "sc.pl.pca(z, color=['modality', 'cell_type'], ncols = 1)"
   ]
  },
  {
   "cell_type": "code",
   "execution_count": null,
   "metadata": {},
   "outputs": [],
   "source": [
    "sc.pl.pca_variance_ratio(z, log=True)"
   ]
  },
  {
   "cell_type": "code",
   "execution_count": null,
   "metadata": {},
   "outputs": [],
   "source": [
    "sc.pp.neighbors(z, n_neighbors=10, n_pcs=12)"
   ]
  },
  {
   "cell_type": "code",
   "execution_count": null,
   "metadata": {},
   "outputs": [],
   "source": [
    "sc.tl.umap(z)"
   ]
  },
  {
   "cell_type": "code",
   "execution_count": null,
   "metadata": {},
   "outputs": [],
   "source": [
    "sc.pl.umap(z, color=['modality', 'cell_type'], ncols=1)"
   ]
  },
  {
   "cell_type": "markdown",
   "metadata": {},
   "source": [
    "# Metrics"
   ]
  },
  {
   "cell_type": "code",
   "execution_count": null,
   "metadata": {},
   "outputs": [],
   "source": [
    "scmulti.metrics.nmi(z, label_key='modality')"
   ]
  },
  {
   "cell_type": "code",
   "execution_count": null,
   "metadata": {},
   "outputs": [],
   "source": [
    "scmulti.metrics.asw(z, label_key='modality')"
   ]
  },
  {
   "cell_type": "code",
   "execution_count": null,
   "metadata": {},
   "outputs": [],
   "source": [
    "scmulti.metrics.asw(z, label_key='cell_type')"
   ]
  },
  {
   "cell_type": "code",
   "execution_count": null,
   "metadata": {},
   "outputs": [],
   "source": [
    "metrics = scmulti.metrics.scibmetrics.metrics(\n",
    "    z, z,\n",
    "    batch_key='modality',\n",
    "    label_key='cell_type',\n",
    "    hvg_score_=False,\n",
    "    nmi_=True,\n",
    "    ari_=True,\n",
    "    silhouette_=True,\n",
    ")\n",
    "metrics"
   ]
  },
  {
   "cell_type": "markdown",
   "metadata": {},
   "source": [
    "# Unpaired"
   ]
  },
  {
   "cell_type": "code",
   "execution_count": null,
   "metadata": {},
   "outputs": [],
   "source": []
  },
  {
   "cell_type": "markdown",
   "metadata": {},
   "source": [
    "# Paired setting"
   ]
  },
  {
   "cell_type": "markdown",
   "metadata": {},
   "source": [
    "## Configure and train the model"
   ]
  },
  {
   "cell_type": "code",
   "execution_count": null,
   "metadata": {},
   "outputs": [],
   "source": [
    "model = scmulti.models.MultiVAE(\n",
    "    adatas=[[scrna, rna], [cite], [scatac]],\n",
    "    names=[['scRNA-seq-kotliarov', 'scRNA-seq-10x'], ['scCITE-seq-kotliarov'], ['scATAC-seq-10x']],\n",
    "    pair_groups=[[0, 1], [2], [3]],\n",
    "    z_dim=20,\n",
    "    h_dim=128,\n",
    "    hiddens=[],\n",
    "    shared_hiddens=[],\n",
    "    adver_hiddens=[],\n",
    "    recon_coef=1,\n",
    "    kl_coef=1e-5,\n",
    "    integ_coef=1e-2,\n",
    "    cycle_coef=0,\n",
    "    adversarial=False,\n",
    "    dropout=0.2,\n",
    ")"
   ]
  },
  {
   "cell_type": "code",
   "execution_count": null,
   "metadata": {},
   "outputs": [],
   "source": [
    "model.model"
   ]
  },
  {
   "cell_type": "code",
   "execution_count": null,
   "metadata": {},
   "outputs": [],
   "source": [
    "model.train(\n",
    "    n_iters=10000,\n",
    "    batch_size=64,\n",
    "    lr=3e-4,\n",
    "    val_split=0.1,\n",
    "    adv_iters=0,\n",
    ")"
   ]
  },
  {
   "cell_type": "markdown",
   "metadata": {},
   "source": [
    "## Plot training history"
   ]
  },
  {
   "cell_type": "code",
   "execution_count": null,
   "metadata": {},
   "outputs": [],
   "source": [
    "model.history"
   ]
  },
  {
   "cell_type": "code",
   "execution_count": null,
   "metadata": {},
   "outputs": [],
   "source": [
    "plt.figure(figsize=(15, 10));\n",
    "plt.subplot(221);\n",
    "plt.plot(model.history['iteration'], model.history['train_loss'], '.-', label='Train loss');\n",
    "plt.plot(model.history['iteration'], model.history['val_loss'], '.-', label='Val loss');\n",
    "plt.xlabel('#Iterations');\n",
    "plt.legend();\n",
    "\n",
    "plt.subplot(222);\n",
    "plt.plot(model.history['iteration'], model.history['train_recon'], '.-', label='Train recon loss');\n",
    "plt.plot(model.history['iteration'], model.history['val_recon'], '.-', label='Val recon loss');\n",
    "plt.xlabel('#Iterations');\n",
    "plt.legend();\n",
    "\n",
    "plt.subplot(223);\n",
    "plt.plot(model.history['iteration'], model.history['train_kl'], '.-', label='Train kl loss');\n",
    "plt.plot(model.history['iteration'], model.history['val_kl'], '.-', label='Val kl loss');\n",
    "plt.xlabel('#Iterations');\n",
    "plt.legend();\n",
    "\n",
    "plt.subplot(224);\n",
    "plt.plot(model.history['iteration'], model.history['train_integ'], '.-', label='Train integ loss');\n",
    "plt.plot(model.history['iteration'], model.history['val_integ'], '.-', label='Val integ loss');\n",
    "plt.xlabel('#Iterations');\n",
    "plt.legend();"
   ]
  },
  {
   "cell_type": "markdown",
   "metadata": {},
   "source": [
    "## Recover and visualize the latent space"
   ]
  },
  {
   "cell_type": "code",
   "execution_count": null,
   "metadata": {},
   "outputs": [],
   "source": [
    "z = model.predict(\n",
    "    adatas=[[scrna, rna], [cite], [scatac]],\n",
    "    names=[['scRNA-seq-kotliarov', 'scRNA-seq-10x'], ['scCITE-seq-kotliarov'], ['scATAC-seq-10x']],\n",
    "    batch_size=64,\n",
    ")\n",
    "z"
   ]
  },
  {
   "cell_type": "code",
   "execution_count": null,
   "metadata": {},
   "outputs": [],
   "source": [
    "sc.tl.pca(z, svd_solver='arpack')"
   ]
  },
  {
   "cell_type": "code",
   "execution_count": null,
   "metadata": {},
   "outputs": [],
   "source": [
    "sc.pl.pca(z, color=['modality', 'cell_type'], ncols = 1)"
   ]
  },
  {
   "cell_type": "code",
   "execution_count": null,
   "metadata": {},
   "outputs": [],
   "source": [
    "sc.pl.pca_variance_ratio(z, log=True)"
   ]
  },
  {
   "cell_type": "code",
   "execution_count": null,
   "metadata": {},
   "outputs": [],
   "source": [
    "sc.pp.neighbors(z, n_neighbors=10, n_pcs=9)"
   ]
  },
  {
   "cell_type": "code",
   "execution_count": null,
   "metadata": {},
   "outputs": [],
   "source": [
    "sc.tl.umap(z)"
   ]
  },
  {
   "cell_type": "code",
   "execution_count": null,
   "metadata": {},
   "outputs": [],
   "source": [
    "sc.pl.umap(z, color=['modality', 'cell_type'], ncols=1)"
   ]
  },
  {
   "cell_type": "markdown",
   "metadata": {},
   "source": [
    "# Metrics"
   ]
  },
  {
   "cell_type": "code",
   "execution_count": null,
   "metadata": {},
   "outputs": [],
   "source": [
    "scmulti.metrics.nmi(z, label_key='modality')"
   ]
  },
  {
   "cell_type": "code",
   "execution_count": null,
   "metadata": {},
   "outputs": [],
   "source": [
    "scmulti.metrics.asw(z, label_key='modality')"
   ]
  },
  {
   "cell_type": "code",
   "execution_count": null,
   "metadata": {},
   "outputs": [],
   "source": [
    "scmulti.metrics.asw(z, label_key='cell_type')"
   ]
  },
  {
   "cell_type": "code",
   "execution_count": null,
   "metadata": {},
   "outputs": [],
   "source": [
    "metrics = scmulti.metrics.scibmetrics.metrics(\n",
    "    z, z,\n",
    "    batch_key='modality',\n",
    "    label_key='cell_type',\n",
    "    hvg_score_=False,\n",
    "    nmi_=True,\n",
    "    ari_=True,\n",
    "    silhouette_=True,\n",
    ")\n",
    "metrics"
   ]
  }
 ],
 "metadata": {
  "kernelspec": {
   "display_name": "Python 3",
   "language": "python",
   "name": "python3"
  },
  "language_info": {
   "codemirror_mode": {
    "name": "ipython",
    "version": 3
   },
   "file_extension": ".py",
   "mimetype": "text/x-python",
   "name": "python",
   "nbconvert_exporter": "python",
   "pygments_lexer": "ipython3",
   "version": "3.7.8"
  }
 },
 "nbformat": 4,
 "nbformat_minor": 4
}
