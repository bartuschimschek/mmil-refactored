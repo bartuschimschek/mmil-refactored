{
 "cells": [
  {
   "cell_type": "code",
   "execution_count": 1,
   "metadata": {},
   "outputs": [],
   "source": [
    "import scanpy as sc\n",
    "import multigrate\n",
    "import gdown\n",
    "import h5py\n",
    "import numpy as np\n",
    "from mofapy2.run.entry_point import entry_point"
   ]
  },
  {
   "cell_type": "code",
   "execution_count": 2,
   "metadata": {},
   "outputs": [],
   "source": [
    "%config InlineBackend.figure_format = 'retina'"
   ]
  },
  {
   "cell_type": "markdown",
   "metadata": {},
   "source": [
    "# MOFA 2"
   ]
  },
  {
   "cell_type": "markdown",
   "metadata": {},
   "source": [
    "## Load the dataset"
   ]
  },
  {
   "cell_type": "code",
   "execution_count": 1,
   "metadata": {},
   "outputs": [
    {
     "name": "stdout",
     "output_type": "stream",
     "text": [
      "--2021-01-05 04:46:52--  https://hmgubox2.helmholtz-muenchen.de/index.php/s/r2W5dMJdq6mFMZY/download?path=%2Fseurat-2020&files=expressions.h5ad\n",
      "Resolving localhost (localhost)... 127.0.0.1\n",
      "Connecting to localhost (localhost)|127.0.0.1|:8085... connected.\n",
      "Proxy request sent, awaiting response... 200 OK\n",
      "Length: 1949492332 (1.8G) [application/octet-stream]\n",
      "Saving to: ‘hao2020-expressions.h5ad’\n",
      "\n",
      "hao2020-expressions 100%[===================>]   1.82G  8.57MB/s    in 4m 16s  \n",
      "\n",
      "2021-01-05 04:51:08 (7.26 MB/s) - ‘hao2020-expressions.h5ad’ saved [1949492332/1949492332]\n",
      "\n"
     ]
    }
   ],
   "source": [
    "!wget \"https://hmgubox2.helmholtz-muenchen.de/index.php/s/r2W5dMJdq6mFMZY/download?path=%2Fseurat-2020&files=expressions.h5ad\" -O hao2020-expressions.h5ad"
   ]
  },
  {
   "cell_type": "code",
   "execution_count": 3,
   "metadata": {},
   "outputs": [
    {
     "data": {
      "text/plain": [
       "AnnData object with n_obs × n_vars = 161764 × 4000\n",
       "    obs: 'nCount_ADT', 'nFeature_ADT', 'nCount_RNA', 'nFeature_RNA', 'orig.ident', 'lane', 'donor', 'time', 'celltype.l1', 'celltype.l2', 'celltype.l3', 'Phase', 'cell_type'\n",
       "    var: 'features', 'highly_variable', 'means', 'dispersions', 'dispersions_norm'\n",
       "    uns: 'celltype.l1_colors', 'celltype.l2_colors', 'celltype.l3_colors', 'neighbors'\n",
       "    obsm: 'X_apca', 'X_aumap', 'X_pca', 'X_spca', 'X_umap', 'X_wnn.umap'\n",
       "    varm: 'PCs', 'SPCA'\n",
       "    layers: 'count'\n",
       "    obsp: 'distances'"
      ]
     },
     "execution_count": 3,
     "metadata": {},
     "output_type": "execute_result"
    }
   ],
   "source": [
    "scrna = sc.read_h5ad('hao2020-expressions.h5ad')\n",
    "scrna"
   ]
  },
  {
   "cell_type": "code",
   "execution_count": 6,
   "metadata": {},
   "outputs": [
    {
     "name": "stdout",
     "output_type": "stream",
     "text": [
      "--2021-01-05 04:51:19--  https://hmgubox2.helmholtz-muenchen.de/index.php/s/r2W5dMJdq6mFMZY/download?path=%2Fseurat-2020&files=protein.h5ad\n",
      "Resolving localhost (localhost)... 127.0.0.1\n",
      "Connecting to localhost (localhost)|127.0.0.1|:8085... connected.\n",
      "Proxy request sent, awaiting response... 200 OK\n",
      "Length: 904554908 (863M) [application/octet-stream]\n",
      "Saving to: ‘hao2020-proteins.h5ad’\n",
      "\n",
      "hao2020-proteins.h5 100%[===================>] 862.65M  5.81MB/s    in 2m 14s  \n",
      "\n",
      "2021-01-05 04:53:34 (6.42 MB/s) - ‘hao2020-proteins.h5ad’ saved [904554908/904554908]\n",
      "\n"
     ]
    }
   ],
   "source": [
    "!wget \"https://hmgubox2.helmholtz-muenchen.de/index.php/s/r2W5dMJdq6mFMZY/download?path=%2Fseurat-2020&files=protein.h5ad\" -O hao2020-proteins.h5ad"
   ]
  },
  {
   "cell_type": "code",
   "execution_count": 4,
   "metadata": {},
   "outputs": [
    {
     "data": {
      "text/plain": [
       "AnnData object with n_obs × n_vars = 161764 × 224\n",
       "    obs: 'nCount_ADT', 'nFeature_ADT', 'nCount_RNA', 'nFeature_RNA', 'orig.ident', 'lane', 'donor', 'time', 'celltype.l1', 'celltype.l2', 'celltype.l3', 'Phase', 'cell_type'\n",
       "    var: 'features'\n",
       "    uns: 'celltype.l1_colors', 'celltype.l2_colors', 'celltype.l3_colors'\n",
       "    obsm: 'X_apca', 'X_aumap', 'X_pca', 'X_spca', 'X_umap', 'X_wnn.umap'\n",
       "    varm: 'APCA'\n",
       "    layers: 'count'"
      ]
     },
     "execution_count": 4,
     "metadata": {},
     "output_type": "execute_result"
    }
   ],
   "source": [
    "cite = sc.read_h5ad('hao2020-proteins.h5ad')\n",
    "cite"
   ]
  },
  {
   "cell_type": "markdown",
   "metadata": {},
   "source": [
    "## Configure and train the model"
   ]
  },
  {
   "cell_type": "code",
   "execution_count": 11,
   "metadata": {},
   "outputs": [
    {
     "name": "stdout",
     "output_type": "stream",
     "text": [
      "\n",
      "        #########################################################\n",
      "        ###           __  __  ____  ______                    ### \n",
      "        ###          |  \\/  |/ __ \\|  ____/\\    _             ### \n",
      "        ###          | \\  / | |  | | |__ /  \\ _| |_           ### \n",
      "        ###          | |\\/| | |  | |  __/ /\\ \\_   _|          ###\n",
      "        ###          | |  | | |__| | | / ____ \\|_|            ###\n",
      "        ###          |_|  |_|\\____/|_|/_/    \\_\\              ###\n",
      "        ###                                                   ### \n",
      "        ######################################################### \n",
      "       \n",
      " \n",
      "        \n"
     ]
    }
   ],
   "source": [
    "ent = entry_point()"
   ]
  },
  {
   "cell_type": "code",
   "execution_count": 12,
   "metadata": {},
   "outputs": [],
   "source": [
    "ent.set_data_options(\n",
    "    scale_groups = False, \n",
    "    scale_views = False\n",
    ")"
   ]
  },
  {
   "cell_type": "code",
   "execution_count": 13,
   "metadata": {},
   "outputs": [
    {
     "name": "stdout",
     "output_type": "stream",
     "text": [
      "Features names not provided, using default naming convention:\n",
      "- feature1_view1, featureD_viewM\n",
      "\n",
      "Groups names not provided, using default naming convention:\n",
      "- group1, group2, ..., groupG\n",
      "\n",
      "Samples names not provided, using default naming convention:\n",
      "- sample1_group1, sample2_group1, sample1_group2, ..., sampleN_groupG\n",
      "\n",
      "Successfully loaded view='scRNA' group='group0' with N=161764 samples and D=4000 features...\n",
      "Successfully loaded view='scADT' group='group0' with N=161764 samples and D=224 features...\n",
      "\n",
      "\n"
     ]
    }
   ],
   "source": [
    "ent.set_data_matrix([[scrna.X.A], [cite.X]], views_names=['scRNA', 'scADT'])"
   ]
  },
  {
   "cell_type": "code",
   "execution_count": 14,
   "metadata": {},
   "outputs": [
    {
     "name": "stdout",
     "output_type": "stream",
     "text": [
      "Model options:\n",
      "- Automatic Relevance Determination prior on the factors: True\n",
      "- Automatic Relevance Determination prior on the weights: True\n",
      "- Spike-and-slab prior on the factors: False\n",
      "- Spike-and-slab prior on the weights: True\n",
      "Likelihoods:\n",
      "- View 0 (scRNA): gaussian\n",
      "- View 1 (scADT): gaussian\n",
      "\n",
      "\n"
     ]
    }
   ],
   "source": [
    "ent.set_model_options(\n",
    "    factors = 20, \n",
    "    spikeslab_weights = True, \n",
    "    ard_factors = True,\n",
    "    ard_weights = True\n",
    ")"
   ]
  },
  {
   "cell_type": "code",
   "execution_count": 15,
   "metadata": {},
   "outputs": [
    {
     "name": "stdout",
     "output_type": "stream",
     "text": [
      "Warning: actively dropping factors during model training can be slow in large data sets.\n",
      "Consider training the model with set drop_factor_threshold = -1 and prune them a posteriori\n"
     ]
    }
   ],
   "source": [
    "ent.set_train_options(\n",
    "    iter = 1000, \n",
    "    convergence_mode = \"fast\", \n",
    "    startELBO = 1, \n",
    "    freqELBO = 1, \n",
    "    dropR2 = 0.001, \n",
    "    gpu_mode = False, \n",
    "    verbose = False, \n",
    "    seed = 1\n",
    ")"
   ]
  },
  {
   "cell_type": "code",
   "execution_count": 16,
   "metadata": {},
   "outputs": [],
   "source": [
    "ent.build()"
   ]
  },
  {
   "cell_type": "code",
   "execution_count": null,
   "metadata": {},
   "outputs": [
    {
     "name": "stdout",
     "output_type": "stream",
     "text": [
      "\n",
      "\n",
      "######################################\n",
      "## Training the model with seed 1 ##\n",
      "######################################\n",
      "\n",
      "\n",
      "ELBO before training: -8686136456.83 \n",
      "\n",
      "Iteration 1: time=302.39, ELBO=478021515.21, deltaELBO=9164157972.040 (105.50326969%), Factors=19\n",
      "Iteration 2: time=287.33, ELBO=501131439.81, deltaELBO=23109924.593 (0.26605528%), Factors=18\n",
      "Iteration 3: time=347.39, ELBO=509667279.13, deltaELBO=8535839.323 (0.09826969%), Factors=17\n",
      "Iteration 4: time=317.93, ELBO=512974113.39, deltaELBO=3306834.264 (0.03807025%), Factors=17\n",
      "Iteration 5: time=261.19, ELBO=513697924.45, deltaELBO=723811.059 (0.00833295%), Factors=17\n",
      "Iteration 6: time=323.67, ELBO=513887022.01, deltaELBO=189097.555 (0.00217700%), Factors=17\n",
      "Iteration 7: time=357.15, ELBO=513990941.70, deltaELBO=103919.692 (0.00119639%), Factors=17\n",
      "Iteration 8: time=332.98, ELBO=514070018.42, deltaELBO=79076.719 (0.00091038%), Factors=17\n"
     ]
    }
   ],
   "source": [
    "ent.run()"
   ]
  },
  {
   "cell_type": "code",
   "execution_count": null,
   "metadata": {},
   "outputs": [],
   "source": [
    "outfile = 'hao2020-mofa.hdf5'\n",
    "ent.save(outfile)"
   ]
  },
  {
   "cell_type": "code",
   "execution_count": null,
   "metadata": {},
   "outputs": [],
   "source": [
    "f = h5py.File(outfile)"
   ]
  },
  {
   "cell_type": "code",
   "execution_count": null,
   "metadata": {},
   "outputs": [],
   "source": [
    "z = np.concatenate([v[:,:] for k, v in f['expectations']['Z'].items()], axis=1).T"
   ]
  },
  {
   "cell_type": "code",
   "execution_count": null,
   "metadata": {},
   "outputs": [],
   "source": [
    "z.shape"
   ]
  },
  {
   "cell_type": "code",
   "execution_count": null,
   "metadata": {},
   "outputs": [],
   "source": [
    "# zs = np.concatenate([v[:] for k, v in f[\"samples\"].items()], axis=0).astype(str)\n",
    "# z = pd.DataFrame(z, index=zs).loc[adata.obs_names.values].to_numpy()"
   ]
  },
  {
   "cell_type": "code",
   "execution_count": null,
   "metadata": {},
   "outputs": [],
   "source": [
    "# adata.obsm['X_mofa'] = z\n",
    "# w = np.concatenate([v[:,:] for k, v in f['expectations']['W'].items()], axis=1).T\n",
    "# adata.varm['LFs'] = w"
   ]
  },
  {
   "cell_type": "code",
   "execution_count": null,
   "metadata": {},
   "outputs": [],
   "source": [
    "# np.concatenate([v[:,:] for k, v in f['expectations']['W'].items()], axis=1).T.shape"
   ]
  },
  {
   "cell_type": "code",
   "execution_count": null,
   "metadata": {},
   "outputs": [],
   "source": [
    "# f.keys()"
   ]
  },
  {
   "cell_type": "code",
   "execution_count": null,
   "metadata": {},
   "outputs": [],
   "source": [
    "# [v for k, v in f['expectations']['W'].items()]"
   ]
  },
  {
   "cell_type": "code",
   "execution_count": null,
   "metadata": {},
   "outputs": [],
   "source": [
    "z = sc.AnnData(z)\n",
    "z.obs['cell_type'] = scrna.obs['cell_type'].tolist()"
   ]
  },
  {
   "cell_type": "code",
   "execution_count": null,
   "metadata": {},
   "outputs": [],
   "source": [
    "sc.pp.neighbors(z)\n",
    "sc.tl.umap(z)"
   ]
  },
  {
   "cell_type": "code",
   "execution_count": null,
   "metadata": {},
   "outputs": [],
   "source": [
    "sc.pl.umap(z, color=['cell_type'], ncols=1)"
   ]
  },
  {
   "cell_type": "code",
   "execution_count": null,
   "metadata": {},
   "outputs": [],
   "source": [
    "sc.pp.pca(z)\n",
    "multigrate.metrics.metrics(\n",
    "    z, z,\n",
    "    batch_key='modality',\n",
    "    label_key='cell_type',\n",
    "    asw_batch=False,\n",
    "    pcr_batch=False,\n",
    "    graph_connectivity_batch=False,\n",
    "    asw_label=True,\n",
    "    nmi_=True,\n",
    "    ari_=True,\n",
    "    isolated_label_asw=False,\n",
    "    method='MOFA'\n",
    ")"
   ]
  },
  {
   "cell_type": "code",
   "execution_count": null,
   "metadata": {},
   "outputs": [],
   "source": []
  }
 ],
 "metadata": {
  "kernelspec": {
   "display_name": "Python 3",
   "language": "python",
   "name": "python3"
  },
  "language_info": {
   "codemirror_mode": {
    "name": "ipython",
    "version": 3
   },
   "file_extension": ".py",
   "mimetype": "text/x-python",
   "name": "python",
   "nbconvert_exporter": "python",
   "pygments_lexer": "ipython3",
   "version": "3.7.9"
  }
 },
 "nbformat": 4,
 "nbformat_minor": 4
}
