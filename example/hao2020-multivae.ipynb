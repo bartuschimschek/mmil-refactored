{
 "cells": [
  {
   "cell_type": "code",
   "execution_count": 1,
   "metadata": {},
   "outputs": [],
   "source": [
    "import scanpy as sc\n",
    "import anndata as ad\n",
    "import multigrate\n",
    "from random import shuffle\n",
    "from scipy import sparse\n",
    "from matplotlib import pyplot as plt\n",
    "import gdown"
   ]
  },
  {
   "cell_type": "code",
   "execution_count": 2,
   "metadata": {},
   "outputs": [],
   "source": [
    "%config InlineBackend.figure_format = 'retina'"
   ]
  },
  {
   "cell_type": "markdown",
   "metadata": {},
   "source": [
    "# Load the dataset"
   ]
  },
  {
   "cell_type": "code",
   "execution_count": 1,
   "metadata": {},
   "outputs": [
    {
     "name": "stdout",
     "output_type": "stream",
     "text": [
      "--2021-01-05 04:46:52--  https://hmgubox2.helmholtz-muenchen.de/index.php/s/r2W5dMJdq6mFMZY/download?path=%2Fseurat-2020&files=expressions.h5ad\n",
      "Resolving localhost (localhost)... 127.0.0.1\n",
      "Connecting to localhost (localhost)|127.0.0.1|:8085... connected.\n",
      "Proxy request sent, awaiting response... 200 OK\n",
      "Length: 1949492332 (1.8G) [application/octet-stream]\n",
      "Saving to: ‘hao2020-expressions.h5ad’\n",
      "\n",
      "hao2020-expressions 100%[===================>]   1.82G  8.57MB/s    in 4m 16s  \n",
      "\n",
      "2021-01-05 04:51:08 (7.26 MB/s) - ‘hao2020-expressions.h5ad’ saved [1949492332/1949492332]\n",
      "\n"
     ]
    }
   ],
   "source": [
    "!wget \"https://hmgubox2.helmholtz-muenchen.de/index.php/s/r2W5dMJdq6mFMZY/download?path=%2Fseurat-2020&files=expressions.h5ad\" -O hao2020-expressions.h5ad"
   ]
  },
  {
   "cell_type": "code",
   "execution_count": 3,
   "metadata": {},
   "outputs": [
    {
     "data": {
      "text/plain": [
       "AnnData object with n_obs × n_vars = 161764 × 4000\n",
       "    obs: 'nCount_ADT', 'nFeature_ADT', 'nCount_RNA', 'nFeature_RNA', 'orig.ident', 'lane', 'donor', 'time', 'celltype.l1', 'celltype.l2', 'celltype.l3', 'Phase', 'cell_type'\n",
       "    var: 'features', 'highly_variable', 'means', 'dispersions', 'dispersions_norm'\n",
       "    uns: 'celltype.l1_colors', 'celltype.l2_colors', 'celltype.l3_colors', 'neighbors'\n",
       "    obsm: 'X_apca', 'X_aumap', 'X_pca', 'X_spca', 'X_umap', 'X_wnn.umap'\n",
       "    varm: 'PCs', 'SPCA'\n",
       "    layers: 'count'\n",
       "    obsp: 'distances'"
      ]
     },
     "execution_count": 3,
     "metadata": {},
     "output_type": "execute_result"
    }
   ],
   "source": [
    "scrna = sc.read_h5ad('hao2020-expressions.h5ad')\n",
    "scrna"
   ]
  },
  {
   "cell_type": "code",
   "execution_count": 6,
   "metadata": {},
   "outputs": [
    {
     "name": "stdout",
     "output_type": "stream",
     "text": [
      "--2021-01-05 04:51:19--  https://hmgubox2.helmholtz-muenchen.de/index.php/s/r2W5dMJdq6mFMZY/download?path=%2Fseurat-2020&files=protein.h5ad\n",
      "Resolving localhost (localhost)... 127.0.0.1\n",
      "Connecting to localhost (localhost)|127.0.0.1|:8085... connected.\n",
      "Proxy request sent, awaiting response... 200 OK\n",
      "Length: 904554908 (863M) [application/octet-stream]\n",
      "Saving to: ‘hao2020-proteins.h5ad’\n",
      "\n",
      "hao2020-proteins.h5 100%[===================>] 862.65M  5.81MB/s    in 2m 14s  \n",
      "\n",
      "2021-01-05 04:53:34 (6.42 MB/s) - ‘hao2020-proteins.h5ad’ saved [904554908/904554908]\n",
      "\n"
     ]
    }
   ],
   "source": [
    "!wget \"https://hmgubox2.helmholtz-muenchen.de/index.php/s/r2W5dMJdq6mFMZY/download?path=%2Fseurat-2020&files=protein.h5ad\" -O hao2020-proteins.h5ad"
   ]
  },
  {
   "cell_type": "code",
   "execution_count": 4,
   "metadata": {},
   "outputs": [
    {
     "data": {
      "text/plain": [
       "AnnData object with n_obs × n_vars = 161764 × 224\n",
       "    obs: 'nCount_ADT', 'nFeature_ADT', 'nCount_RNA', 'nFeature_RNA', 'orig.ident', 'lane', 'donor', 'time', 'celltype.l1', 'celltype.l2', 'celltype.l3', 'Phase', 'cell_type'\n",
       "    var: 'features'\n",
       "    uns: 'celltype.l1_colors', 'celltype.l2_colors', 'celltype.l3_colors'\n",
       "    obsm: 'X_apca', 'X_aumap', 'X_pca', 'X_spca', 'X_umap', 'X_wnn.umap'\n",
       "    varm: 'APCA'\n",
       "    layers: 'count'"
      ]
     },
     "execution_count": 4,
     "metadata": {},
     "output_type": "execute_result"
    }
   ],
   "source": [
    "cite = sc.read_h5ad('hao2020-proteins.h5ad')\n",
    "cite"
   ]
  },
  {
   "cell_type": "markdown",
   "metadata": {},
   "source": [
    "# Paired setting"
   ]
  },
  {
   "cell_type": "markdown",
   "metadata": {},
   "source": [
    "## Configure and train the model"
   ]
  },
  {
   "cell_type": "code",
   "execution_count": 9,
   "metadata": {},
   "outputs": [],
   "source": [
    "# paired\n",
    "model = multigrate.models.MultiVAE(\n",
    "    adatas=[[scrna], [cite]],\n",
    "    names=[['scRNA-seq'], ['scCITE-seq']],\n",
    "    pair_groups=[[0], [0]],\n",
    "    z_dim=20,\n",
    "    h_dim=128,\n",
    "    hiddens=[[], []],\n",
    "    output_activations=['linear', 'linear'],\n",
    "    shared_hiddens=[],\n",
    "    adver_hiddens=[],\n",
    "    recon_coef=1,\n",
    "    kl_coef=1e-5,\n",
    "    integ_coef=1e-2,\n",
    "    cycle_coef=0,\n",
    "    adversarial=False,\n",
    "    dropout=0.2,\n",
    ")"
   ]
  },
  {
   "cell_type": "code",
   "execution_count": null,
   "metadata": {},
   "outputs": [
    {
     "name": "stderr",
     "output_type": "stream",
     "text": [
      "/home/aomidi/.conda/envs/seurat/lib/python3.7/site-packages/pandas/core/arrays/categorical.py:2487: FutureWarning: The `inplace` parameter in pandas.Categorical.remove_unused_categories is deprecated and will be removed in a future version.\n",
      "  res = method(*args, **kwargs)\n"
     ]
    }
   ],
   "source": [
    "model.train(\n",
    "    n_iters=50000,\n",
    "    batch_size=64,\n",
    "    lr=3e-4,\n",
    "    val_split=0.1,\n",
    "    adv_iters=0,\n",
    "    kl_anneal_iters=20000,\n",
    "    validate_every=5000,\n",
    "    verbose=1\n",
    ")"
   ]
  },
  {
   "cell_type": "markdown",
   "metadata": {},
   "source": [
    "## Plot training history"
   ]
  },
  {
   "cell_type": "code",
   "execution_count": null,
   "metadata": {},
   "outputs": [],
   "source": [
    "model.history"
   ]
  },
  {
   "cell_type": "code",
   "execution_count": null,
   "metadata": {},
   "outputs": [],
   "source": [
    "plt.figure(figsize=(15, 10));\n",
    "plt.subplot(221);\n",
    "plt.plot(model.history['iteration'], model.history['train_loss'], '.-', label='Train loss');\n",
    "plt.plot(model.history['iteration'], model.history['val_loss'], '.-', label='Val loss');\n",
    "plt.xlabel('#Iterations');\n",
    "plt.legend();\n",
    "\n",
    "plt.subplot(222);\n",
    "plt.plot(model.history['iteration'], model.history['train_recon'], '.-', label='Train recon loss');\n",
    "plt.plot(model.history['iteration'], model.history['val_recon'], '.-', label='Val recon loss');\n",
    "plt.xlabel('#Iterations');\n",
    "plt.legend();\n",
    "\n",
    "plt.subplot(223);\n",
    "plt.plot(model.history['iteration'], model.history['train_kl'], '.-', label='Train kl loss');\n",
    "plt.plot(model.history['iteration'], model.history['val_kl'], '.-', label='Val kl loss');\n",
    "plt.xlabel('#Iterations');\n",
    "plt.legend();\n",
    "\n",
    "plt.subplot(224);\n",
    "plt.plot(model.history['iteration'], model.history['train_integ'], '.-', label='Train integ loss');\n",
    "plt.plot(model.history['iteration'], model.history['val_integ'], '.-', label='Val integ loss');\n",
    "plt.xlabel('#Iterations');\n",
    "plt.legend();"
   ]
  },
  {
   "cell_type": "markdown",
   "metadata": {},
   "source": [
    "## Recover and visualize the latent space"
   ]
  },
  {
   "cell_type": "code",
   "execution_count": null,
   "metadata": {},
   "outputs": [],
   "source": [
    "z = model.predict(\n",
    "    adatas=[[scrna], [cite]],\n",
    "    names=[['scRNA-seq'], ['scCITE-seq']],\n",
    "    batch_size=64,\n",
    ")\n",
    "z"
   ]
  },
  {
   "cell_type": "code",
   "execution_count": null,
   "metadata": {},
   "outputs": [],
   "source": [
    "sc.pp.neighbors(z)\n",
    "sc.tl.umap(z)"
   ]
  },
  {
   "cell_type": "code",
   "execution_count": null,
   "metadata": {},
   "outputs": [],
   "source": [
    "sc.pl.umap(z, color=['modality', 'cell_type'], ncols=1)"
   ]
  },
  {
   "cell_type": "markdown",
   "metadata": {},
   "source": [
    "## Metrics"
   ]
  },
  {
   "cell_type": "code",
   "execution_count": null,
   "metadata": {},
   "outputs": [],
   "source": [
    "sc.pp.pca(z)\n",
    "metrics = multigrate.metrics.metrics(\n",
    "    z, z,\n",
    "    batch_key='modality',\n",
    "    label_key='cell_type',\n",
    "    method='multigrate'\n",
    ")\n",
    "metrics"
   ]
  },
  {
   "cell_type": "code",
   "execution_count": null,
   "metadata": {},
   "outputs": [],
   "source": []
  }
 ],
 "metadata": {
  "kernelspec": {
   "display_name": "Python 3",
   "language": "python",
   "name": "python3"
  },
  "language_info": {
   "codemirror_mode": {
    "name": "ipython",
    "version": 3
   },
   "file_extension": ".py",
   "mimetype": "text/x-python",
   "name": "python",
   "nbconvert_exporter": "python",
   "pygments_lexer": "ipython3",
   "version": "3.7.9"
  }
 },
 "nbformat": 4,
 "nbformat_minor": 4
}
